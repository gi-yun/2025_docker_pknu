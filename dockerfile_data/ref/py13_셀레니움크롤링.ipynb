{
 "cells": [
  {
   "cell_type": "code",
   "execution_count": 10,
   "id": "6df9823e-4507-4644-b658-a5b36f3adfaf",
   "metadata": {},
   "outputs": [],
   "source": [
    "# ! pip install selenium"
   ]
  },
  {
   "cell_type": "code",
   "execution_count": 1,
   "id": "bdc35017-2d3b-4705-ab82-7792a9f01b09",
   "metadata": {},
   "outputs": [],
   "source": [
    "from selenium import webdriver\n",
    "from selenium.webdriver.common.action_chains import ActionChains\n",
    "from selenium.webdriver.chrome.service import Service\n",
    "from selenium.webdriver.chrome.options import Options\n",
    "from selenium.webdriver.common.keys import Keys\n",
    "from selenium.webdriver.common.by import By\n",
    "from datetime import datetime\n",
    "from bs4 import BeautifulSoup as bs\n",
    "from datetime import datetime\n",
    "import pandas as pd\n",
    "import time\n"
   ]
  },
  {
   "cell_type": "code",
   "execution_count": 58,
   "id": "e0157963-e33a-4d6b-8444-4ea0aa7251c1",
   "metadata": {
    "scrolled": true
   },
   "outputs": [
    {
     "name": "stdout",
     "output_type": "stream",
     "text": [
      "Starbucks Korea\n"
     ]
    }
   ],
   "source": [
    "# Chrome 옵션 설정\n",
    "options = Options()\n",
    "options.binary_location = \"./chrome-win64/chrome.exe\"  # chrome 경로 설정\n",
    "options.add_argument(\"--no--sandbox\") # sandbox 설정\n",
    "options.add_argument(\"--disable-dev-shm-usage\")  # 공유메모리 설정\n",
    "options.add_argument(\"--window-size=1920,1080\") # (화면크기)해상도 설정, 반응형 웹 대비\n",
    "# options.add_argument(\"--disable-gpu\") # GPU 비활성화 \n",
    "\n",
    "# ChromeDriver 설정\n",
    "service = Service(\"chromedriver.exe\")\n",
    "driver = webdriver.Chrome(service=service, options=options)\n",
    "driver.get(\"https://www.starbucks.co.kr/index.do\")\n",
    "print(driver.title)\n",
    "\n",
    "# 요소찾기\n",
    "hover_element = driver.find_element(By.CSS_SELECTOR, \"#gnb > div > nav > div > ul > li.gnb_nav03 > h2 > a\")\n",
    "menu_option = driver.find_element(By.CSS_SELECTOR, \"#gnb > div > nav > div > ul > li.gnb_nav03 > div > div > div > ul:nth-child(1) > li.gnb_sub_ttl > a\")\n",
    "\n",
    "# 마우스 호버 액션\n",
    "actions = ActionChains(driver)\n",
    "actions.move_to_element(hover_element).perform() # 마우스 올린거 처럼\n",
    "\n",
    "# 약간의 시간을 기다린 후 클릭\n",
    "time.sleep(1)\n",
    "menu_option.click()\n",
    "time.sleep(5)\n",
    "\n",
    "# 입력창 선택 후 검색\n",
    "driver.find_element(By.CSS_SELECTOR, \"#container > div > form > fieldset > div > section > article.find_store_cont > article > header.loca_search > h3 > a\").click() # '지역검색' 을 선택\n",
    "time.sleep(1)\n",
    "driver.find_element(By.CSS_SELECTOR, \"#container > div > form > fieldset > div > section > article.find_store_cont > article > article:nth-child(4) > div.loca_step1 > div.loca_step1_cont > ul > li:nth-child(6) > a\").click()\n",
    "time.sleep(1)\n",
    "driver.find_element(By.CSS_SELECTOR, \"#mCSB_2_container > ul > li:nth-child(1) > a\").click()\n",
    "time.sleep(1)\n",
    "\n",
    "html = driver.page_source\n",
    "# print(html)\n",
    "driver.quit() # 브라우저 종료"
   ]
  },
  {
   "cell_type": "code",
   "execution_count": 90,
   "id": "8ba50994-204c-4cb2-9b17-7a8a9a8fa49a",
   "metadata": {},
   "outputs": [
    {
     "name": "stdout",
     "output_type": "stream",
     "text": [
      "부산광역시 금정구 중앙대로 1989 (남산동)1522-3232 리저브 매장 2번\n",
      "금정남산동DT / 35.2621786292157 / 129.091325043351\n",
      "=========================\n",
      "35.2621786292157\n"
     ]
    }
   ],
   "source": [
    "# 현재 페이지 정보 가져오기\n",
    "star_list=[]\n",
    "soup = bs(html, 'html.parser')\n",
    "# 본문내용 가져오기\n",
    "contents = soup.select(\"#mCSB_3_container > ul > li\")\n",
    "\n",
    "test = contents[0]\n",
    "print(test.select_one('p.result_details').text, test.select_one('i.pin_generalDT').text)\n",
    "print(test['data-name'],'/' ,test['data-lat'], '/' ,test['data-long'])\n",
    "\n",
    "\n",
    "\n",
    "for c in contents:\n",
    "    result = (c['data-name'], c.select_one('p.result_details').text, c.select_one('i')['class'][0], c['data-lat'],c['data-long'])\n",
    "    star_list.append(result)\n",
    "# print(star_list)\n",
    "\n",
    "print(\"=========================\")\n",
    "print(star_list[0][3])\n",
    "\n"
   ]
  },
  {
   "cell_type": "code",
   "execution_count": 84,
   "id": "0356decc-af2f-4b12-92d2-9d5432677290",
   "metadata": {},
   "outputs": [
    {
     "name": "stdout",
     "output_type": "stream",
     "text": [
      "MySQL 서버1에 성공적으로 연결되었습니다.\n",
      "MySQL 서버2에 성공적으로 연결되었습니다.\n",
      "연결중...\n"
     ]
    }
   ],
   "source": [
    "import mysql.connector\n",
    "try:\n",
    "    conn1 = mysql.connector.connect(\n",
    "        host='localhost', # MySQL 서버 주소\n",
    "        user='root',\n",
    "        password='1234'\n",
    "    )\n",
    "    conn2 = mysql.connector.connect(\n",
    "    host='210.119.14.56', # MySQL 서버 주소\n",
    "    user='root',\n",
    "    password='1234'\n",
    "    )\n",
    "    \n",
    "    if conn1.is_connected():\n",
    "        print(\"MySQL 서버1에 성공적으로 연결되었습니다.\")\n",
    "    if conn2.is_connected():\n",
    "        print(\"MySQL 서버2에 성공적으로 연결되었습니다.\")\n",
    "except mysql.connector.Error as err:\n",
    "    print(\"MySQL 연결 실패: \")\n",
    "finally :\n",
    "    if all([conn1.is_connected(), conn2.is_connected()]):\n",
    "        print(\"연결중...\")\n",
    "# 커서 생성\n",
    "cursor1 = conn1.cursor()\n",
    "cursor2 = conn2.cursor()"
   ]
  },
  {
   "cell_type": "code",
   "execution_count": 85,
   "id": "a499cd15-58f7-419a-9204-5a92e92043e4",
   "metadata": {},
   "outputs": [
    {
     "name": "stdout",
     "output_type": "stream",
     "text": [
      "테이블이 생성되었습니다.\n"
     ]
    }
   ],
   "source": [
    "que=\"CREATE DATABASE IF NOT EXISTS kgy7820\"\n",
    "cursor1.execute(que)\n",
    "cursor2.execute(que)\n",
    "conn1.close()\n",
    "conn2.close()\n",
    "print(\"테이블이 생성되었습니다.\")"
   ]
  },
  {
   "cell_type": "code",
   "execution_count": 97,
   "id": "4c051dc8-0a01-44aa-9a6e-8e152f2aab60",
   "metadata": {},
   "outputs": [
    {
     "name": "stdout",
     "output_type": "stream",
     "text": [
      "MySQL 서버1에 성공적으로 연결되었습니다.\n",
      "MySQL 서버2에 성공적으로 연결되었습니다.\n",
      "연결중...\n"
     ]
    }
   ],
   "source": [
    "try:\n",
    "    conn1 = mysql.connector.connect(\n",
    "        host='localhost', # MySQL 서버 주소\n",
    "        user='root',\n",
    "        password='1234',\n",
    "        database=\"kgy7820\" #사용할 데이터 베이스\n",
    "    )\n",
    "    conn2 = mysql.connector.connect(\n",
    "    host='210.119.14.56', # MySQL 서버 주소\n",
    "    user='root',\n",
    "    password='1234',\n",
    "    database=\"kgy7820\" # 사용할 데이터 베이스\n",
    "    )\n",
    "    cursor1 = conn1.cursor()\n",
    "    cursor2 = conn2.cursor()\n",
    "    \n",
    "    if conn1.is_connected():\n",
    "        print(\"MySQL 서버1에 성공적으로 연결되었습니다.\")\n",
    "    if conn2.is_connected():\n",
    "        print(\"MySQL 서버2에 성공적으로 연결되었습니다.\")\n",
    "except mysql.connector.Error as err:\n",
    "    print(\"MySQL 연결 실패: \")\n",
    "finally :\n",
    "    if all([conn1.is_connected(), conn2.is_connected()]):\n",
    "        print(\"연결중...\")"
   ]
  },
  {
   "cell_type": "code",
   "execution_count": 98,
   "id": "a8006167-c986-4db4-aa5a-9a26db0d0610",
   "metadata": {},
   "outputs": [
    {
     "name": "stdout",
     "output_type": "stream",
     "text": [
      "테이블 생성완료\n"
     ]
    }
   ],
   "source": [
    "query = \"CREATE TABLE IF NOT EXISTS kgy(id INT AUTO_INCREMENT PRIMARY KEY, name VARCHAR(100), detail VARCHAR(100), type VARCHAR(100), lat DECIMAL(17, 14), lng  DECIMAL(17, 14))\"\n",
    "cursor1.execute(query)\n",
    "cursor2.execute(query)\n",
    "print(\"테이블 생성완료\")"
   ]
  },
  {
   "cell_type": "code",
   "execution_count": 99,
   "id": "8aa3a6b3-9304-472c-ae62-97e9454361a2",
   "metadata": {},
   "outputs": [
    {
     "name": "stdout",
     "output_type": "stream",
     "text": [
      "모든 매장 데이터 삽입 완료\n"
     ]
    }
   ],
   "source": [
    "insert_sql = \"INSERT INTO kgy (name, detail, type ,lat, lng) VALUES (%s, %s, %s, %s, %s)\"\n",
    "\n",
    "for row in star_list:\n",
    "    try:\n",
    "        cursor1.execute(insert_sql, (row[0], row[1], row[2], row[3], row[4]))\n",
    "        cursor2.execute(insert_sql, (row[0], row[1], row[2], row[3], row[4]))\n",
    "    except Exception as e:\n",
    "        print(\"삽입 중 에러 발생:\", e)\n",
    "        continue\n",
    "\n",
    "# 커밋\n",
    "conn1.commit()\n",
    "conn2.commit()\n",
    "print(\"모든 매장 데이터 삽입 완료\")"
   ]
  },
  {
   "cell_type": "code",
   "execution_count": null,
   "id": "d83218aa-aeef-4555-9159-38671ef0846b",
   "metadata": {},
   "outputs": [],
   "source": []
  }
 ],
 "metadata": {
  "kernelspec": {
   "display_name": "Python 3 (ipykernel)",
   "language": "python",
   "name": "python3"
  },
  "language_info": {
   "codemirror_mode": {
    "name": "ipython",
    "version": 3
   },
   "file_extension": ".py",
   "mimetype": "text/x-python",
   "name": "python",
   "nbconvert_exporter": "python",
   "pygments_lexer": "ipython3",
   "version": "3.13.1"
  }
 },
 "nbformat": 4,
 "nbformat_minor": 5
}
