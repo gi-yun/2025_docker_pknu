{
 "cells": [
  {
   "cell_type": "code",
   "execution_count": 1,
   "id": "e769f185-05ea-4b6e-becb-db333dc5075a",
   "metadata": {
    "scrolled": true
   },
   "outputs": [],
   "source": [
    "# !ifconfig"
   ]
  },
  {
   "cell_type": "code",
   "execution_count": 2,
   "id": "0ccd62cf-31c2-49c6-9e2d-0cb160731afa",
   "metadata": {
    "scrolled": true
   },
   "outputs": [],
   "source": [
    "# !ping 172.18.0.6"
   ]
  },
  {
   "cell_type": "code",
   "execution_count": 3,
   "id": "7846deba-216a-428c-92fe-11cd3d936b0f",
   "metadata": {},
   "outputs": [],
   "source": [
    "# !pip install mysql-connector-python"
   ]
  },
  {
   "cell_type": "code",
   "execution_count": 4,
   "id": "a46a0deb-35e6-418f-bf5f-b0bf11c46dd0",
   "metadata": {},
   "outputs": [
    {
     "name": "stdout",
     "output_type": "stream",
     "text": [
      "MySQL 서버에 성공적으로 연결되었습니다.\n",
      "연결중...\n"
     ]
    }
   ],
   "source": [
    "import mysql.connector\n",
    "try:\n",
    "    conn = mysql.connector.connect(\n",
    "        host='mysql', # MySQL 서버 주소\n",
    "        user='root',\n",
    "        password='1234'\n",
    "    )\n",
    "    if conn.is_connected():\n",
    "        print(\"MySQL 서버에 성공적으로 연결되었습니다.\")\n",
    "except mysql.connector.Error as err:\n",
    "    print(\"MySQL 연결 실패: \")\n",
    "finally :\n",
    "    if conn.is_connected():\n",
    "        print(\"연결중...\")"
   ]
  },
  {
   "cell_type": "code",
   "execution_count": 5,
   "id": "a3d4af4e-6626-4be4-a94a-5dc45e8bf5b0",
   "metadata": {},
   "outputs": [],
   "source": [
    "# 커서 생성\n",
    "cursor = conn.cursor()\n",
    "que=\"CREATE DATABASE IF NOT EXISTS judb\"\n",
    "cursor.execute(que)\n",
    "conn.close()"
   ]
  },
  {
   "cell_type": "code",
   "execution_count": 6,
   "id": "8d8bcab0-3a30-4b7e-adc4-c87520a00d1f",
   "metadata": {},
   "outputs": [
    {
     "name": "stdout",
     "output_type": "stream",
     "text": [
      "MySQL 연결 성공!\n"
     ]
    }
   ],
   "source": [
    "# MySQL 에 연결\n",
    "conn = mysql.connector.connect(\n",
    "        host='mysql', # MySQL 서버 주소\n",
    "        user='root',\n",
    "        password='1234',\n",
    "        database=\"judb\" # 사용할 데이터 베이스\n",
    "    )\n",
    "cursor = conn.cursor()\n",
    "print(\"MySQL 연결 성공!\")"
   ]
  },
  {
   "cell_type": "code",
   "execution_count": 7,
   "id": "9ce3b905-9671-4d85-b905-24865057f85e",
   "metadata": {},
   "outputs": [
    {
     "name": "stdout",
     "output_type": "stream",
     "text": [
      "테이블 생성완료\n"
     ]
    }
   ],
   "source": [
    "# 테이블 생성\n",
    "query = \"CREATE TABLE IF NOT EXISTS USERS(id INT AUTO_INCREMENT PRIMARY KEY, name VARCHAR(100), age INT, city VARCHAR(50))\"\n",
    "cursor.execute(query)\n",
    "print(\"테이블 생성완료\")"
   ]
  },
  {
   "cell_type": "code",
   "execution_count": 8,
   "id": "bb0f3c97-e04b-4bc7-ae92-280e8a9f04f2",
   "metadata": {},
   "outputs": [
    {
     "name": "stdout",
     "output_type": "stream",
     "text": [
      "1개의 데이터 삽입 완료, ID: 12\n"
     ]
    }
   ],
   "source": [
    "# 단일 데이터 삽입\n",
    "sql = \"INSERT INTO users (name, age, city) VALUES (%s, %s, %s)\"\n",
    "values = (\"Alice\", 25, \"Seoul\")\n",
    "cursor.execute(sql, values)\n",
    "conn.commit()\n",
    "print(\"1개의 데이터 삽입 완료, ID:\", cursor.lastrowid)"
   ]
  },
  {
   "cell_type": "code",
   "execution_count": 9,
   "id": "68cf17d0-540b-41b9-a2d0-22264af9d9c1",
   "metadata": {},
   "outputs": [
    {
     "name": "stdout",
     "output_type": "stream",
     "text": [
      "여러개의 데이터 삽입 완료\n"
     ]
    }
   ],
   "source": [
    "# 여러개의 데이터 삽입\n",
    "sql = \"INSERT INTO users (name, age, city) VALUES (%s, %s, %s)\"\n",
    "m_values=[(\"superman\",33,\"Busan\"), (\"Cutegirl\",17,\"Incheon\"), (\"Coolboy\",22,\"jeju\")]\n",
    "cursor.executemany(sql, m_values)\n",
    "conn.commit()\n",
    "print(\"여러개의 데이터 삽입 완료\")"
   ]
  },
  {
   "cell_type": "code",
   "execution_count": 10,
   "id": "b8d490a6-adf5-4baa-b3ff-b89766aeedb7",
   "metadata": {},
   "outputs": [
    {
     "name": "stdout",
     "output_type": "stream",
     "text": [
      "(12, 'Alice', 25, 'Seoul')\n",
      "(13, 'superman', 33, 'Busan')\n",
      "(14, 'Cutegirl', 17, 'Incheon')\n",
      "(15, 'Coolboy', 22, 'jeju')\n"
     ]
    }
   ],
   "source": [
    "# 모든 데이터 조회\n",
    "que = \"SELECT * FROM users\"\n",
    "cursor.execute(que)\n",
    "users= cursor.fetchall()\n",
    "for user in users:\n",
    "    print(user)"
   ]
  },
  {
   "cell_type": "code",
   "execution_count": 11,
   "id": "58299983-8b7a-4686-babe-f34915d57803",
   "metadata": {},
   "outputs": [
    {
     "name": "stdout",
     "output_type": "stream",
     "text": [
      "(12, 'Alice', 25, 'Seoul')\n",
      "(13, 'superman', 33, 'Busan')\n"
     ]
    }
   ],
   "source": [
    "# 특정 조건 데이터 조회 (24살 이상만 조회)\n",
    "que = \"SELECT * FROM users\"\n",
    "filters = \" WHERE age >= 24\"\n",
    "cursor.execute(que+filters)\n",
    "\n",
    "filtered = cursor.fetchall()\n",
    "for f in filtered:\n",
    "    print(f)"
   ]
  },
  {
   "cell_type": "code",
   "execution_count": 12,
   "id": "73ed2205-f5a6-4e4e-b9ef-48ddaf630b15",
   "metadata": {},
   "outputs": [
    {
     "name": "stdout",
     "output_type": "stream",
     "text": [
      "수정된 행 개수: 1\n"
     ]
    }
   ],
   "source": [
    "# 특정 사용자의 나이 수정\n",
    "sql = \"UPDATE users SET age = %s WHERE name = %s\"\n",
    "values = (29, \"Alice\")\n",
    "cursor.execute(sql, values)\n",
    "conn.commit()\n",
    "print(\"수정된 행 개수:\", cursor.rowcount)"
   ]
  },
  {
   "cell_type": "code",
   "execution_count": 13,
   "id": "3e425776-7d89-4bfb-a59f-89e8b046fcf1",
   "metadata": {},
   "outputs": [
    {
     "name": "stdout",
     "output_type": "stream",
     "text": [
      "(20, 'jeju')에 해당하는 목록을 삭제하였습니다.\n"
     ]
    }
   ],
   "source": [
    "#특정 사용자 삭제\n",
    "que = \"DELETE FROM users WHERE age> %s AND city=%s\"\n",
    "filters = (20, \"jeju\")\n",
    "cursor.execute(que, filters)\n",
    "conn.commit()\n",
    "print(f\"{filters}에 해당하는 목록을 삭제하였습니다.\")"
   ]
  },
  {
   "cell_type": "code",
   "execution_count": null,
   "id": "adb21fd3-0fb4-4b3c-984e-09c869fce6e3",
   "metadata": {},
   "outputs": [],
   "source": []
  }
 ],
 "metadata": {
  "kernelspec": {
   "display_name": "Python 3 (ipykernel)",
   "language": "python",
   "name": "python3"
  },
  "language_info": {
   "codemirror_mode": {
    "name": "ipython",
    "version": 3
   },
   "file_extension": ".py",
   "mimetype": "text/x-python",
   "name": "python",
   "nbconvert_exporter": "python",
   "pygments_lexer": "ipython3",
   "version": "3.10.12"
  }
 },
 "nbformat": 4,
 "nbformat_minor": 5
}
