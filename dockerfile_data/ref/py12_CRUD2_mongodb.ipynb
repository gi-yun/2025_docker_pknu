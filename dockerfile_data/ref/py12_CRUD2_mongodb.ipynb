{
 "cells": [
  {
   "cell_type": "code",
   "execution_count": 5,
   "id": "240f3cb9-68e8-4ca1-a709-fb6052617e7a",
   "metadata": {},
   "outputs": [
    {
     "name": "stdout",
     "output_type": "stream",
     "text": [
      "Defaulting to user installation because normal site-packages is not writeable\n",
      "Requirement already satisfied: pymongo in /home/pkdata/.local/lib/python3.10/site-packages (4.12.0)\n",
      "Requirement already satisfied: dnspython<3.0.0,>=1.16.0 in /home/pkdata/.local/lib/python3.10/site-packages (from pymongo) (2.7.0)\n"
     ]
    }
   ],
   "source": [
    "# !pip install pymongo"
   ]
  },
  {
   "cell_type": "code",
   "execution_count": 11,
   "id": "9732af81-8251-4895-89d1-206647d1c6ac",
   "metadata": {},
   "outputs": [
    {
     "name": "stdout",
     "output_type": "stream",
     "text": [
      "{'ok': 1.0}\n",
      "MongoDB 서버에 성공적으로 연결되었습니다.\n"
     ]
    }
   ],
   "source": [
    "from pymongo import MongoClient\n",
    "client = MongoClient(\"mongodb://mongodb:27017\")\n",
    "\n",
    "try:\n",
    "    print(client.admin.command('ping'))\n",
    "    print(\"MongoDB 서버에 성공적으로 연결되었습니다.\")\n",
    "except Exception as e:\n",
    "    print(\"MongoDB 서버 연결 실패: \", e)"
   ]
  },
  {
   "cell_type": "code",
   "execution_count": 13,
   "id": "9b5ea2ea-369a-4831-8275-b563dd81344c",
   "metadata": {},
   "outputs": [
    {
     "name": "stdout",
     "output_type": "stream",
     "text": [
      "사용할 데이터베이스 선택됨\n",
      "사용할 컬랙션 선택됨\n"
     ]
    }
   ],
   "source": [
    "# 사용할 데이터베이스 선택\n",
    "db = client[\"mdb\"]\n",
    "print(\"사용할 데이터베이스 선택됨\")\n",
    "\n",
    "# 사용할 컬랙션 선택\n",
    "collection = db[\"c1\"]\n",
    "print(\"사용할 컬랙션 선택됨\")"
   ]
  },
  {
   "cell_type": "code",
   "execution_count": 16,
   "id": "e1493569-6a7a-46aa-a285-0dd0ffba9e4f",
   "metadata": {},
   "outputs": [
    {
     "name": "stdout",
     "output_type": "stream",
     "text": [
      "Inserted ID InsertOneResult(ObjectId('67f5df0ced3db4a8792ebc0d'), acknowledged=True)\n",
      "Inserted ID 67f5df0ced3db4a8792ebc0d\n"
     ]
    }
   ],
   "source": [
    "# 단일 문서 삽입\n",
    "user = {\"name\":\"Alice\", \"age\":25, \"city\":\"Seoul\"}\n",
    "insert_result = collection.insert_one(user)\n",
    "print(\"Inserted ID\",insert_result)\n",
    "print(\"Inserted ID\",insert_result.inserted_id)\n"
   ]
  },
  {
   "cell_type": "code",
   "execution_count": 18,
   "id": "e1923e98-628f-4bcc-a601-bf149270b34d",
   "metadata": {},
   "outputs": [
    {
     "name": "stdout",
     "output_type": "stream",
     "text": [
      "Inserted IDs:  InsertManyResult([ObjectId('67f5dfdced3db4a8792ebc11'), ObjectId('67f5dfdced3db4a8792ebc12'), ObjectId('67f5dfdced3db4a8792ebc13')], acknowledged=True)\n"
     ]
    }
   ],
   "source": [
    "# 여러개 문서 삽입\n",
    "user = [{\"name\":\"Bob\", \"age\":30, \"city\":\"Seoul\"},\n",
    "        {\"name\":\"Char\", \"age\":35, \"city\":\"Incheon\"},\n",
    "        {\"name\":\"Apple\", \"age\":15, \"city\":\"Daegu\"}\n",
    "       ]\n",
    "insert_results = collection.insert_many(user)\n",
    "print(\"Inserted IDs: \", insert_results)"
   ]
  },
  {
   "cell_type": "code",
   "execution_count": 47,
   "id": "c0be09cd-b656-4b01-bd57-a031b8917158",
   "metadata": {},
   "outputs": [
    {
     "name": "stdout",
     "output_type": "stream",
     "text": [
      "{'name': 'superman', 'etc': '힘쌤'}\n",
      "{'name': 'cutegirl', 'age': 20, 'gender': 'female'}\n",
      "{'name': 'Bob', 'age': 30, 'city': 'Seoul'}\n",
      "{'name': 'Char', 'age': 35, 'city': 'Incheon'}\n",
      "{'name': 'Bob', 'age': 30, 'city': 'Seoul'}\n",
      "{'name': 'Char', 'age': 35, 'city': 'Incheon'}\n"
     ]
    }
   ],
   "source": [
    "users =collection.find({}, {\"_id\":0})\n",
    "for u in users:\n",
    "    print(u)"
   ]
  },
  {
   "cell_type": "code",
   "execution_count": 29,
   "id": "97f5e613-fb07-451b-a916-c0caae3f6e7b",
   "metadata": {},
   "outputs": [
    {
     "name": "stdout",
     "output_type": "stream",
     "text": [
      "{'name': 'Apple', 'age': 15, 'city': 'Daegu'}\n"
     ]
    }
   ],
   "source": [
    "# 단일 문서 조회\n",
    "user = collection.find_one({\"name\":\"Apple\"}, {\"_id\":0})\n",
    "print(user)"
   ]
  },
  {
   "cell_type": "code",
   "execution_count": 40,
   "id": "e8273305-68df-420c-b536-909081373110",
   "metadata": {},
   "outputs": [
    {
     "name": "stdout",
     "output_type": "stream",
     "text": [
      "{'name': 'Alice', 'age': 32, 'city': 'Seoul'}\n",
      "{'name': 'Alice', 'age': 32, 'city': 'Seoul'}\n",
      "{'name': 'Alice', 'age': 32, 'city': 'Seoul'}\n",
      "{'name': 'Bob', 'age': 30, 'city': 'Seoul'}\n",
      "{'name': 'Char', 'age': 35, 'city': 'Incheon'}\n",
      "{'name': 'Bob', 'age': 30, 'city': 'Seoul'}\n",
      "{'name': 'Char', 'age': 35, 'city': 'Incheon'}\n"
     ]
    }
   ],
   "source": [
    "# 특정 조건을 만족하는 문서 조회\n",
    "filters = {\"age\":{\"$gt\":20}} # 나이가 20보다 큰 문서 찾기\n",
    "filtered = collection.find(filters,{\"_id\":0})\n",
    "for f in filtered :\n",
    "    print(f)"
   ]
  },
  {
   "cell_type": "code",
   "execution_count": 34,
   "id": "9997129c-a848-4882-bcf3-cc2c80a61187",
   "metadata": {},
   "outputs": [
    {
     "name": "stdout",
     "output_type": "stream",
     "text": [
      "수정됨 UpdateResult({'n': 1, 'nModified': 0, 'ok': 1.0, 'updatedExisting': True}, acknowledged=True)\n"
     ]
    }
   ],
   "source": [
    "# 특정 문서 한 개 수정\n",
    "update = collection.update_one({\"name\":\"Alice\"},{\"$set\":{\"age\":26}})\n",
    "print(\"수정됨\", update)"
   ]
  },
  {
   "cell_type": "code",
   "execution_count": 42,
   "id": "e3831281-7d86-45aa-b387-ab87d859c8ad",
   "metadata": {},
   "outputs": [
    {
     "name": "stdout",
     "output_type": "stream",
     "text": [
      "수정됨s UpdateResult({'n': 5, 'nModified': 5, 'ok': 1.0, 'updatedExisting': True}, acknowledged=True)\n"
     ]
    }
   ],
   "source": [
    "# 특정 문서 여러 개 수정\n",
    "updates = collection.update_many({\"name\":{\"$regex\":\"^A\"}},{\"$inc\":{\"age\":5}}) # A로 시작하는 이름은 5살 증가 시켜라\n",
    "# updates = collection.update_many({\"name\":\"Alice\"},{\"$set\":{\"age\":27}})\n",
    "print(\"수정됨s\",updates)"
   ]
  },
  {
   "cell_type": "code",
   "execution_count": 45,
   "id": "0b307974-aaab-4f37-8ee2-958b1a855eb3",
   "metadata": {},
   "outputs": [
    {
     "name": "stdout",
     "output_type": "stream",
     "text": [
      "삭제됨 DeleteResult({'n': 0, 'ok': 1.0}, acknowledged=True)\n"
     ]
    }
   ],
   "source": [
    "# 특정 문서 한 개 삭제\n",
    "delete = collection.delete_one({\"etc\":\"잘생김\"})\n",
    "print(\"삭제됨\", delete)"
   ]
  },
  {
   "cell_type": "code",
   "execution_count": 48,
   "id": "61d3b103-5745-4bf2-9e85-f45f4732850d",
   "metadata": {},
   "outputs": [
    {
     "name": "stdout",
     "output_type": "stream",
     "text": [
      "삭제됨 DeleteResult({'n': 0, 'ok': 1.0}, acknowledged=True)\n"
     ]
    }
   ],
   "source": [
    "# 특정 문서 여러 개 삭제\n",
    "deletes = collection.delete_many({\"name\":{\"$regex\":\"e$\"}}) # 정규식으로 e로 끝나는 이름 모두 삭제\n",
    "print(\"삭제됨\", deletes)"
   ]
  },
  {
   "cell_type": "code",
   "execution_count": 51,
   "id": "080b5c0f-fd71-4b16-a0c9-667d7078b990",
   "metadata": {},
   "outputs": [],
   "source": [
    "import json\n",
    "\n",
    "with open(\"./photos.json\") as f:\n",
    "    data = json.load(f)"
   ]
  },
  {
   "cell_type": "code",
   "execution_count": 54,
   "id": "cc158a22-a933-465f-9f04-6a8f58d6b2e5",
   "metadata": {},
   "outputs": [
    {
     "name": "stdout",
     "output_type": "stream",
     "text": [
      "사용할 데이터베이스 선택됨\n",
      "사용할 컬랙션 선택됨\n"
     ]
    }
   ],
   "source": [
    "# 사용할 데이터베이스 선택\n",
    "db2 = client[\"jdb\"]\n",
    "print(\"사용할 데이터베이스 선택됨\")\n",
    "\n",
    "# 사용할 컬랙션 선택\n",
    "collection2 = db[\"j1\"]\n",
    "print(\"사용할 컬랙션 선택됨\")"
   ]
  },
  {
   "cell_type": "code",
   "execution_count": 56,
   "id": "e3fa1418-84d9-4086-a916-3359d7ca5a8a",
   "metadata": {
    "scrolled": true
   },
   "outputs": [
    {
     "ename": "BulkWriteError",
     "evalue": "batch op errors occurred, full error: {'writeErrors': [{'index': 0, 'code': 11000, 'errmsg': \"E11000 duplicate key error collection: jdb.j1 index: _id_ dup key: { _id: ObjectId('67f5fcf5ed3db4a8792ebc14') }\", 'keyPattern': {'_id': 1}, 'keyValue': {'_id': ObjectId('67f5fcf5ed3db4a8792ebc14')}, 'op': {'albumId': 1, 'id': 1, 'title': 'accusamus beatae ad facilis cum similique qui sunt', 'url': 'https://via.placeholder.com/600/92c952', 'thumbnailUrl': 'https://via.placeholder.com/150/92c952', '_id': ObjectId('67f5fcf5ed3db4a8792ebc14')}}], 'writeConcernErrors': [], 'nInserted': 0, 'nUpserted': 0, 'nMatched': 0, 'nModified': 0, 'nRemoved': 0, 'upserted': []}",
     "output_type": "error",
     "traceback": [
      "\u001b[0;31m---------------------------------------------------------------------------\u001b[0m",
      "\u001b[0;31mBulkWriteError\u001b[0m                            Traceback (most recent call last)",
      "Cell \u001b[0;32mIn[56], line 1\u001b[0m\n\u001b[0;32m----> 1\u001b[0m insert \u001b[38;5;241m=\u001b[39m \u001b[43mcollection2\u001b[49m\u001b[38;5;241;43m.\u001b[39;49m\u001b[43minsert_many\u001b[49m\u001b[43m(\u001b[49m\u001b[43mdata\u001b[49m\u001b[43m)\u001b[49m\n\u001b[1;32m      2\u001b[0m \u001b[38;5;28mprint\u001b[39m(\u001b[38;5;124m\"\u001b[39m\u001b[38;5;124m로드완료\u001b[39m\u001b[38;5;124m\"\u001b[39m, insert)\n",
      "File \u001b[0;32m~/.local/lib/python3.10/site-packages/pymongo/_csot.py:119\u001b[0m, in \u001b[0;36mapply.<locals>.csot_wrapper\u001b[0;34m(self, *args, **kwargs)\u001b[0m\n\u001b[1;32m    117\u001b[0m         \u001b[38;5;28;01mwith\u001b[39;00m _TimeoutContext(timeout):\n\u001b[1;32m    118\u001b[0m             \u001b[38;5;28;01mreturn\u001b[39;00m func(\u001b[38;5;28mself\u001b[39m, \u001b[38;5;241m*\u001b[39margs, \u001b[38;5;241m*\u001b[39m\u001b[38;5;241m*\u001b[39mkwargs)\n\u001b[0;32m--> 119\u001b[0m \u001b[38;5;28;01mreturn\u001b[39;00m \u001b[43mfunc\u001b[49m\u001b[43m(\u001b[49m\u001b[38;5;28;43mself\u001b[39;49m\u001b[43m,\u001b[49m\u001b[43m \u001b[49m\u001b[38;5;241;43m*\u001b[39;49m\u001b[43margs\u001b[49m\u001b[43m,\u001b[49m\u001b[43m \u001b[49m\u001b[38;5;241;43m*\u001b[39;49m\u001b[38;5;241;43m*\u001b[39;49m\u001b[43mkwargs\u001b[49m\u001b[43m)\u001b[49m\n",
      "File \u001b[0;32m~/.local/lib/python3.10/site-packages/pymongo/synchronous/collection.py:975\u001b[0m, in \u001b[0;36mCollection.insert_many\u001b[0;34m(self, documents, ordered, bypass_document_validation, session, comment)\u001b[0m\n\u001b[1;32m    973\u001b[0m blk \u001b[38;5;241m=\u001b[39m _Bulk(\u001b[38;5;28mself\u001b[39m, ordered, bypass_document_validation, comment\u001b[38;5;241m=\u001b[39mcomment)\n\u001b[1;32m    974\u001b[0m blk\u001b[38;5;241m.\u001b[39mops \u001b[38;5;241m=\u001b[39m \u001b[38;5;28mlist\u001b[39m(gen())\n\u001b[0;32m--> 975\u001b[0m \u001b[43mblk\u001b[49m\u001b[38;5;241;43m.\u001b[39;49m\u001b[43mexecute\u001b[49m\u001b[43m(\u001b[49m\u001b[43mwrite_concern\u001b[49m\u001b[43m,\u001b[49m\u001b[43m \u001b[49m\u001b[43msession\u001b[49m\u001b[43m,\u001b[49m\u001b[43m \u001b[49m\u001b[43m_Op\u001b[49m\u001b[38;5;241;43m.\u001b[39;49m\u001b[43mINSERT\u001b[49m\u001b[43m)\u001b[49m\n\u001b[1;32m    976\u001b[0m \u001b[38;5;28;01mreturn\u001b[39;00m InsertManyResult(inserted_ids, write_concern\u001b[38;5;241m.\u001b[39macknowledged)\n",
      "File \u001b[0;32m~/.local/lib/python3.10/site-packages/pymongo/synchronous/bulk.py:751\u001b[0m, in \u001b[0;36m_Bulk.execute\u001b[0;34m(self, write_concern, session, operation)\u001b[0m\n\u001b[1;32m    749\u001b[0m         \u001b[38;5;28;01mreturn\u001b[39;00m \u001b[38;5;28;01mNone\u001b[39;00m\n\u001b[1;32m    750\u001b[0m \u001b[38;5;28;01melse\u001b[39;00m:\n\u001b[0;32m--> 751\u001b[0m     \u001b[38;5;28;01mreturn\u001b[39;00m \u001b[38;5;28;43mself\u001b[39;49m\u001b[38;5;241;43m.\u001b[39;49m\u001b[43mexecute_command\u001b[49m\u001b[43m(\u001b[49m\u001b[43mgenerator\u001b[49m\u001b[43m,\u001b[49m\u001b[43m \u001b[49m\u001b[43mwrite_concern\u001b[49m\u001b[43m,\u001b[49m\u001b[43m \u001b[49m\u001b[43msession\u001b[49m\u001b[43m,\u001b[49m\u001b[43m \u001b[49m\u001b[43moperation\u001b[49m\u001b[43m)\u001b[49m\n",
      "File \u001b[0;32m~/.local/lib/python3.10/site-packages/pymongo/synchronous/bulk.py:614\u001b[0m, in \u001b[0;36m_Bulk.execute_command\u001b[0;34m(self, generator, write_concern, session, operation)\u001b[0m\n\u001b[1;32m    604\u001b[0m _ \u001b[38;5;241m=\u001b[39m client\u001b[38;5;241m.\u001b[39m_retryable_write(\n\u001b[1;32m    605\u001b[0m     \u001b[38;5;28mself\u001b[39m\u001b[38;5;241m.\u001b[39mis_retryable,\n\u001b[1;32m    606\u001b[0m     retryable_bulk,\n\u001b[0;32m   (...)\u001b[0m\n\u001b[1;32m    610\u001b[0m     operation_id\u001b[38;5;241m=\u001b[39mop_id,\n\u001b[1;32m    611\u001b[0m )\n\u001b[1;32m    613\u001b[0m \u001b[38;5;28;01mif\u001b[39;00m full_result[\u001b[38;5;124m\"\u001b[39m\u001b[38;5;124mwriteErrors\u001b[39m\u001b[38;5;124m\"\u001b[39m] \u001b[38;5;129;01mor\u001b[39;00m full_result[\u001b[38;5;124m\"\u001b[39m\u001b[38;5;124mwriteConcernErrors\u001b[39m\u001b[38;5;124m\"\u001b[39m]:\n\u001b[0;32m--> 614\u001b[0m     \u001b[43m_raise_bulk_write_error\u001b[49m\u001b[43m(\u001b[49m\u001b[43mfull_result\u001b[49m\u001b[43m)\u001b[49m\n\u001b[1;32m    615\u001b[0m \u001b[38;5;28;01mreturn\u001b[39;00m full_result\n",
      "File \u001b[0;32m~/.local/lib/python3.10/site-packages/pymongo/bulk_shared.py:131\u001b[0m, in \u001b[0;36m_raise_bulk_write_error\u001b[0;34m(full_result)\u001b[0m\n\u001b[1;32m    125\u001b[0m         errmsg \u001b[38;5;241m=\u001b[39m (\n\u001b[1;32m    126\u001b[0m             \u001b[38;5;124m\"\u001b[39m\u001b[38;5;124mThis MongoDB deployment does not support \u001b[39m\u001b[38;5;124m\"\u001b[39m\n\u001b[1;32m    127\u001b[0m             \u001b[38;5;124m\"\u001b[39m\u001b[38;5;124mretryable writes. Please add retryWrites=false \u001b[39m\u001b[38;5;124m\"\u001b[39m\n\u001b[1;32m    128\u001b[0m             \u001b[38;5;124m\"\u001b[39m\u001b[38;5;124mto your connection string.\u001b[39m\u001b[38;5;124m\"\u001b[39m\n\u001b[1;32m    129\u001b[0m         )\n\u001b[1;32m    130\u001b[0m         \u001b[38;5;28;01mraise\u001b[39;00m OperationFailure(errmsg, code, full_result)\n\u001b[0;32m--> 131\u001b[0m \u001b[38;5;28;01mraise\u001b[39;00m BulkWriteError(full_result)\n",
      "\u001b[0;31mBulkWriteError\u001b[0m: batch op errors occurred, full error: {'writeErrors': [{'index': 0, 'code': 11000, 'errmsg': \"E11000 duplicate key error collection: jdb.j1 index: _id_ dup key: { _id: ObjectId('67f5fcf5ed3db4a8792ebc14') }\", 'keyPattern': {'_id': 1}, 'keyValue': {'_id': ObjectId('67f5fcf5ed3db4a8792ebc14')}, 'op': {'albumId': 1, 'id': 1, 'title': 'accusamus beatae ad facilis cum similique qui sunt', 'url': 'https://via.placeholder.com/600/92c952', 'thumbnailUrl': 'https://via.placeholder.com/150/92c952', '_id': ObjectId('67f5fcf5ed3db4a8792ebc14')}}], 'writeConcernErrors': [], 'nInserted': 0, 'nUpserted': 0, 'nMatched': 0, 'nModified': 0, 'nRemoved': 0, 'upserted': []}"
     ]
    }
   ],
   "source": [
    "insert = collection2.insert_many(data)\n",
    "print(\"로드완료\", insert)"
   ]
  },
  {
   "cell_type": "code",
   "execution_count": 88,
   "id": "c42dbdaa-83c1-4a48-8421-9fe05d7e45fc",
   "metadata": {},
   "outputs": [
    {
     "name": "stdout",
     "output_type": "stream",
     "text": [
      "완료\n"
     ]
    }
   ],
   "source": [
    "# filter3 = {\"id\":{\"$GTE\":30}} #대문자 안됨\n",
    "filter3 = {\"id\":{\"$gte\":30}}\n",
    "find3 = collection2.find(filter3)\n",
    "# for i in find3:\n",
    "#     print(i)\n",
    "print(\"완료\")"
   ]
  },
  {
   "cell_type": "code",
   "execution_count": null,
   "id": "6919e041-cfa6-4651-8677-0388fb699dc8",
   "metadata": {},
   "outputs": [],
   "source": []
  }
 ],
 "metadata": {
  "kernelspec": {
   "display_name": "Python 3 (ipykernel)",
   "language": "python",
   "name": "python3"
  },
  "language_info": {
   "codemirror_mode": {
    "name": "ipython",
    "version": 3
   },
   "file_extension": ".py",
   "mimetype": "text/x-python",
   "name": "python",
   "nbconvert_exporter": "python",
   "pygments_lexer": "ipython3",
   "version": "3.13.1"
  }
 },
 "nbformat": 4,
 "nbformat_minor": 5
}
