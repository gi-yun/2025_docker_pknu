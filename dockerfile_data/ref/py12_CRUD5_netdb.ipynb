{
 "cells": [
  {
   "cell_type": "code",
   "execution_count": 5,
   "id": "d72e1250-2551-46c3-add6-e6c65cdca89f",
   "metadata": {},
   "outputs": [
    {
     "name": "stdout",
     "output_type": "stream",
     "text": [
      "Requirement already satisfied: mysql-connector-python in c:\\users\\admin\\appdata\\local\\programs\\python\\python313\\lib\\site-packages (9.2.0)\n"
     ]
    }
   ],
   "source": [
    "# !pip install mysql-connector-python\n",
    "# !pip install pymongo\n",
    "# !pip install oracledb "
   ]
  },
  {
   "cell_type": "code",
   "execution_count": 12,
   "id": "031d174a-3492-4721-8155-686ab209e825",
   "metadata": {},
   "outputs": [
    {
     "name": "stdout",
     "output_type": "stream",
     "text": [
      "MySQL 서버1에 성공적으로 연결되었습니다.\n",
      "MySQL 서버2에 성공적으로 연결되었습니다.\n",
      "연결중...\n"
     ]
    }
   ],
   "source": [
    "import mysql.connector\n",
    "try:\n",
    "    conn1 = mysql.connector.connect(\n",
    "        host='localhost', # MySQL 서버 주소\n",
    "        user='root',\n",
    "        password='1234'\n",
    "    )\n",
    "    conn2 = mysql.connector.connect(\n",
    "    host='210.119.14.56', # MySQL 서버 주소\n",
    "    user='root',\n",
    "    password='1234'\n",
    "    )\n",
    "    \n",
    "    if conn1.is_connected():\n",
    "        print(\"MySQL 서버1에 성공적으로 연결되었습니다.\")\n",
    "    if conn2.is_connected():\n",
    "        print(\"MySQL 서버2에 성공적으로 연결되었습니다.\")\n",
    "except mysql.connector.Error as err:\n",
    "    print(\"MySQL 연결 실패: \")\n",
    "finally :\n",
    "    if all([conn1.is_connected(), conn2.is_connected()]):\n",
    "        print(\"연결중...\")\n",
    "# 커서 생성\n",
    "cursor1 = conn1.cursor()\n",
    "cursor2 = conn2.cursor()"
   ]
  },
  {
   "cell_type": "code",
   "execution_count": 10,
   "id": "8da837a3-7893-4db5-8db7-387e3ac9d958",
   "metadata": {},
   "outputs": [
    {
     "name": "stdout",
     "output_type": "stream",
     "text": [
      "테이블이 생성되었습니다.\n"
     ]
    }
   ],
   "source": [
    "\n",
    "que=\"CREATE DATABASE IF NOT EXISTS gydb\"\n",
    "cursor1.execute(que)\n",
    "cursor2.execute(que)\n",
    "conn1.close()\n",
    "conn2.close()\n",
    "print(\"테이블이 생성되었습니다.\")"
   ]
  },
  {
   "cell_type": "code",
   "execution_count": 16,
   "id": "d44ee72b-c13b-4683-8e5c-bc65febc8732",
   "metadata": {},
   "outputs": [
    {
     "name": "stdout",
     "output_type": "stream",
     "text": [
      "MySQL 서버1에 성공적으로 연결되었습니다.\n",
      "MySQL 서버2에 성공적으로 연결되었습니다.\n",
      "연결중...\n"
     ]
    }
   ],
   "source": [
    "try:\n",
    "    conn1 = mysql.connector.connect(\n",
    "        host='localhost', # MySQL 서버 주소\n",
    "        user='root',\n",
    "        password='1234',\n",
    "        database=\"gydb\" #사용할 데이터 베이스\n",
    "    )\n",
    "    conn2 = mysql.connector.connect(\n",
    "    host='210.119.14.60', # MySQL 서버 주소\n",
    "    user='root',\n",
    "    password='1234',\n",
    "    database=\"gydb\" # 사용할 데이터 베이스\n",
    "    )\n",
    "    cursor1 = conn1.cursor()\n",
    "    cursor2 = conn2.cursor()\n",
    "    \n",
    "    if conn1.is_connected():\n",
    "        print(\"MySQL 서버1에 성공적으로 연결되었습니다.\")\n",
    "    if conn2.is_connected():\n",
    "        print(\"MySQL 서버2에 성공적으로 연결되었습니다.\")\n",
    "except mysql.connector.Error as err:\n",
    "    print(\"MySQL 연결 실패: \")\n",
    "finally :\n",
    "    if all([conn1.is_connected(), conn2.is_connected()]):\n",
    "        print(\"연결중...\")"
   ]
  },
  {
   "cell_type": "code",
   "execution_count": 47,
   "id": "16152bde-8037-4cea-aa27-d23284919e07",
   "metadata": {},
   "outputs": [
    {
     "name": "stdout",
     "output_type": "stream",
     "text": [
      "테이블 생성완료\n"
     ]
    }
   ],
   "source": [
    "query = \"CREATE TABLE IF NOT EXISTS users(id INT AUTO_INCREMENT PRIMARY KEY, name VARCHAR(100), age INT, city VARCHAR(100))\"\n",
    "cursor1.execute(query)\n",
    "cursor2.execute(query)\n",
    "print(\"테이블 생성완료\")"
   ]
  },
  {
   "cell_type": "code",
   "execution_count": 38,
   "id": "7559b65b-caa1-4efd-8deb-3747fca2260f",
   "metadata": {},
   "outputs": [
    {
     "name": "stdout",
     "output_type": "stream",
     "text": [
      "여러개의 데이터 삽입 완료\n"
     ]
    }
   ],
   "source": [
    "sql = \"INSERT INTO users (name, age, city) VALUES (%s, %s, %s)\"\n",
    "m_values=[(\"superman\",33,\"Busan\"), (\"Cutegirl\",17,\"Incheon\"), (\"Coolboy\",22,\"jeju\")]\n",
    "cursor1.executemany(sql, m_values)\n",
    "cursor2.executemany(sql, m_values)\n",
    "conn1.commit()\n",
    "conn2.commit()\n",
    "print(\"여러개의 데이터 삽입 완료\")"
   ]
  },
  {
   "cell_type": "code",
   "execution_count": 17,
   "id": "e505e578-dd51-4790-9592-5bae64b9d91a",
   "metadata": {},
   "outputs": [
    {
     "name": "stdout",
     "output_type": "stream",
     "text": [
      "====서버 1번=====\n",
      "(1, 'superman', 33, 'Busan')\n",
      "(2, 'Cutegirl', 17, 'Incheon')\n",
      "(3, 'Coolboy', 22, 'jeju')\n",
      "(4, 'superman', 33, 'Busan')\n",
      "(5, 'Cutegirl', 17, 'Incheon')\n",
      "(6, 'Coolboy', 22, 'jeju')\n",
      "(7, 'superman', 33, 'Busan')\n",
      "(8, 'Cutegirl', 17, 'jeju')\n",
      "(9, 'Coolboy', 22, 'Jeju')\n",
      "=====서버 2번=====\n",
      "(1, 'superman', 33, 'Busan')\n",
      "(2, 'Cutegirl', 17, 'Incheon')\n",
      "(3, 'Coolboy', 22, 'jeju')\n",
      "(4, 'superman', 33, 'Busan')\n",
      "(5, 'Cutegirl', 17, 'Incheon')\n",
      "(6, 'Coolboy', 22, 'jeju')\n",
      "(7, 'superman', 33, 'Busan')\n",
      "(8, 'Cutegirl', 17, 'jeju')\n",
      "(9, 'Coolboy', 22, 'Jeju')\n"
     ]
    }
   ],
   "source": [
    "# 모든 데이터 조회\n",
    "que = \"SELECT * FROM users\"\n",
    "cursor1.execute(que)\n",
    "users1= cursor1.fetchall()\n",
    "cursor2.execute(que)\n",
    "users2= cursor2.fetchall()\n",
    "print(\"====서버 1번=====\")\n",
    "for user in users1:\n",
    "    print(user)\n",
    "print(\"=====서버 2번=====\")\n",
    "for user in users2:\n",
    "    print(user)"
   ]
  },
  {
   "cell_type": "code",
   "execution_count": null,
   "id": "b3528cbf-3676-4818-8a41-1942a0350526",
   "metadata": {},
   "outputs": [],
   "source": []
  },
  {
   "cell_type": "code",
   "execution_count": null,
   "id": "c2078422-45e8-4e3c-bb8e-e0be98906dfd",
   "metadata": {},
   "outputs": [],
   "source": []
  }
 ],
 "metadata": {
  "kernelspec": {
   "display_name": "Python 3 (ipykernel)",
   "language": "python",
   "name": "python3"
  },
  "language_info": {
   "codemirror_mode": {
    "name": "ipython",
    "version": 3
   },
   "file_extension": ".py",
   "mimetype": "text/x-python",
   "name": "python",
   "nbconvert_exporter": "python",
   "pygments_lexer": "ipython3",
   "version": "3.13.1"
  }
 },
 "nbformat": 4,
 "nbformat_minor": 5
}
