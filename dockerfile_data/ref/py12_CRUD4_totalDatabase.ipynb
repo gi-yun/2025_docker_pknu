{
 "cells": [
  {
   "cell_type": "markdown",
   "id": "39251e9e-26a5-427e-ae85-2be21dfe104e",
   "metadata": {},
   "source": [
    "<h1>개인과제</h1>\n",
    "<h2>주피터랩에서 데이터를 입력받으면 3가지 DB에 동시에 CRUD가 되는 시스템을 만들어라.</h2>\n",
    "<h3>예) input을 이용하여 <이름:> 홍길동(엔터), <나이> 33 (엔터), <주소> 해운대구 (엔터)</h3>\n",
    "<h3>입력하고, 데이터를 검색, 이름은 고르고, 수정, 삭제 를 가능케 하라</h3>"
   ]
  },
  {
   "cell_type": "code",
   "execution_count": 37,
   "id": "832f49b0-09e3-484c-a00f-ba5b09cbb6e8",
   "metadata": {},
   "outputs": [
    {
     "name": "stdout",
     "output_type": "stream",
     "text": [
      "MySQL 연결 성공!\n"
     ]
    }
   ],
   "source": [
    "#Mysql 연결\n",
    "import mysql.connector\n",
    "MSconn = mysql.connector.connect(\n",
    "        host='mysql', # MySQL 서버 주소\n",
    "        user='root',\n",
    "        password='1234',\n",
    "        database=\"totaldb\" # 사용할 데이터 베이스\n",
    "    )\n",
    "MScursor = MSconn.cursor()\n",
    "print(\"MySQL 연결 성공!\")\n",
    "\n",
    "\n",
    "# # 테이블 생성\n",
    "# query = \"CREATE TABLE IF NOT EXISTS test(id INT AUTO_INCREMENT PRIMARY KEY, name VARCHAR(100), age INT, addr VARCHAR(100))\"\n",
    "# cursor.execute(query)\n",
    "# print(\"테이블 생성완료\")"
   ]
  },
  {
   "cell_type": "code",
   "execution_count": 38,
   "id": "d88d6492-f3a6-4659-800e-f74d134acfae",
   "metadata": {},
   "outputs": [
    {
     "name": "stdout",
     "output_type": "stream",
     "text": [
      "{'ok': 1.0}\n",
      "MongoDB 서버에 성공적으로 연결되었습니다.\n",
      "사용할 데이터베이스 선택됨\n",
      "사용할 컬랙션 선택됨\n"
     ]
    }
   ],
   "source": [
    "# MongoDB 연결\n",
    "from pymongo import MongoClient\n",
    "client = MongoClient(\"mongodb://mongodb:27017\")\n",
    "\n",
    "try:\n",
    "    print(client.admin.command('ping'))\n",
    "    print(\"MongoDB 서버에 성공적으로 연결되었습니다.\")\n",
    "except Exception as e:\n",
    "    print(\"MongoDB 서버 연결 실패: \", e)\n",
    "    \n",
    "db = client[\"totaldb\"]\n",
    "print(\"사용할 데이터베이스 선택됨\")\n",
    "\n",
    "# 사용할 컬랙션 선택\n",
    "collection = db[\"test\"]\n",
    "print(\"사용할 컬랙션 선택됨\")"
   ]
  },
  {
   "cell_type": "code",
   "execution_count": 39,
   "id": "79888704-efd7-4653-b353-416edba8ca3a",
   "metadata": {},
   "outputs": [
    {
     "name": "stdout",
     "output_type": "stream",
     "text": [
      "Oracle 데이터베이스에 성공적으로 연결 되었습니다.\n"
     ]
    }
   ],
   "source": [
    "# oracle 연결\n",
    "import oracledb\n",
    "try:\n",
    "    # 데이터베이스 연결시도\n",
    "    Oconn = oracledb.connect(\n",
    "        user=\"pknu\",\n",
    "        password=\"1234\",\n",
    "        dsn=\"oracle/XEPDB1\"\n",
    "    ) \n",
    "    print(\"Oracle 데이터베이스에 성공적으로 연결 되었습니다.\")\n",
    "    Ocursor=Oconn.cursor() # \n",
    "except Exception as e:\n",
    "    print(\"Oracle 데이터베이스 연결 실패:\", e)"
   ]
  },
  {
   "cell_type": "code",
   "execution_count": 53,
   "id": "e39704b8-3499-46ce-8989-6443e6818f7b",
   "metadata": {},
   "outputs": [
    {
     "name": "stdout",
     "output_type": "stream",
     "text": [
      "\n",
      "    1. 데이터 등록\n",
      "    2. 데이터 읽기\n",
      "    3. 데이터 수정\n",
      "    4. 데이터 삭제\n",
      "    5. 종료\n",
      "    고르세요\n",
      "\n"
     ]
    },
    {
     "name": "stdin",
     "output_type": "stream",
     "text": [
      "선택하세요:  2\n"
     ]
    },
    {
     "name": "stdout",
     "output_type": "stream",
     "text": [
      "2 번 고르셨네요.\n",
      "데이터 읽어 옵니다.\n",
      "이름을 입력하세요\n"
     ]
    },
    {
     "name": "stdin",
     "output_type": "stream",
     "text": [
      " 해운대구\n"
     ]
    },
    {
     "name": "stdout",
     "output_type": "stream",
     "text": [
      "나이를 입력하세요\n"
     ]
    },
    {
     "name": "stdin",
     "output_type": "stream",
     "text": [
      " 5\n"
     ]
    },
    {
     "name": "stdout",
     "output_type": "stream",
     "text": [
      "주소를 입력하세요\n"
     ]
    },
    {
     "name": "stdin",
     "output_type": "stream",
     "text": [
      " 5\n"
     ]
    },
    {
     "name": "stdout",
     "output_type": "stream",
     "text": [
      "[Mysql]필터에 맞게 조회합니다.\n",
      "[Mongodb]필터에 맞게 조회합니다.\n",
      "학생목록:\n",
      "[Oracle]필터에 맞게 조회합니다.\n",
      "\n",
      "    1. 데이터 등록\n",
      "    2. 데이터 읽기\n",
      "    3. 데이터 수정\n",
      "    4. 데이터 삭제\n",
      "    5. 종료\n",
      "    고르세요\n",
      "\n"
     ]
    },
    {
     "name": "stdin",
     "output_type": "stream",
     "text": [
      "선택하세요:  2\n"
     ]
    },
    {
     "name": "stdout",
     "output_type": "stream",
     "text": [
      "2 번 고르셨네요.\n",
      "데이터 읽어 옵니다.\n",
      "이름을 입력하세요\n"
     ]
    },
    {
     "name": "stdin",
     "output_type": "stream",
     "text": [
      " 홍길동\n"
     ]
    },
    {
     "name": "stdout",
     "output_type": "stream",
     "text": [
      "나이를 입력하세요\n"
     ]
    },
    {
     "name": "stdin",
     "output_type": "stream",
     "text": [
      " 20\n"
     ]
    },
    {
     "name": "stdout",
     "output_type": "stream",
     "text": [
      "주소를 입력하세요\n"
     ]
    },
    {
     "name": "stdin",
     "output_type": "stream",
     "text": [
      " 해운대구\n"
     ]
    },
    {
     "name": "stdout",
     "output_type": "stream",
     "text": [
      "[Mysql] (3, '홍길동', 20, '해운대구')\n",
      "[Mysql]필터에 맞게 조회합니다.\n",
      "[Mongodb] {'name': '홍길동', 'age': 20, 'addr': '해운대구'}\n",
      "[Mongodb]필터에 맞게 조회합니다.\n",
      "학생목록:\n",
      "[Oracle] (3, '홍길동', 20, '해운대구')\n",
      "[Oracle]필터에 맞게 조회합니다.\n",
      "\n",
      "    1. 데이터 등록\n",
      "    2. 데이터 읽기\n",
      "    3. 데이터 수정\n",
      "    4. 데이터 삭제\n",
      "    5. 종료\n",
      "    고르세요\n",
      "\n"
     ]
    },
    {
     "name": "stdin",
     "output_type": "stream",
     "text": [
      "선택하세요:  3\n"
     ]
    },
    {
     "name": "stdout",
     "output_type": "stream",
     "text": [
      "3 번 고르셨네요.\n",
      "데이터를 수정합니다.\n",
      "수정하고싶은 이름을 입력하세요\n"
     ]
    },
    {
     "name": "stdin",
     "output_type": "stream",
     "text": [
      " 홍길동\n"
     ]
    },
    {
     "name": "stdout",
     "output_type": "stream",
     "text": [
      "나이를 수정합니다.\n",
      "수정하실 숫자를 입력하세요\n"
     ]
    },
    {
     "name": "stdin",
     "output_type": "stream",
     "text": [
      " 22\n"
     ]
    },
    {
     "name": "stdout",
     "output_type": "stream",
     "text": [
      "[Mysql]수정된 행 개수: 1\n",
      "[Mongodb]수정됨 UpdateResult({'n': 1, 'nModified': 1, 'ok': 1.0, 'updatedExisting': True}, acknowledged=True)\n",
      "[Oracle]데이터가 성공적으로 수정되었습니다.\n",
      "\n",
      "    1. 데이터 등록\n",
      "    2. 데이터 읽기\n",
      "    3. 데이터 수정\n",
      "    4. 데이터 삭제\n",
      "    5. 종료\n",
      "    고르세요\n",
      "\n"
     ]
    },
    {
     "name": "stdin",
     "output_type": "stream",
     "text": [
      "선택하세요:  2\n"
     ]
    },
    {
     "name": "stdout",
     "output_type": "stream",
     "text": [
      "2 번 고르셨네요.\n",
      "데이터 읽어 옵니다.\n",
      "이름을 입력하세요\n"
     ]
    },
    {
     "name": "stdin",
     "output_type": "stream",
     "text": [
      " 홍길동\n"
     ]
    },
    {
     "name": "stdout",
     "output_type": "stream",
     "text": [
      "나이를 입력하세요\n"
     ]
    },
    {
     "name": "stdin",
     "output_type": "stream",
     "text": [
      " 22\n"
     ]
    },
    {
     "name": "stdout",
     "output_type": "stream",
     "text": [
      "주소를 입력하세요\n"
     ]
    },
    {
     "name": "stdin",
     "output_type": "stream",
     "text": [
      " 해운대구\n"
     ]
    },
    {
     "name": "stdout",
     "output_type": "stream",
     "text": [
      "[Mysql] (3, '홍길동', 22, '해운대구')\n",
      "[Mysql]필터에 맞게 조회합니다.\n",
      "[Mongodb] {'name': '홍길동', 'age': 22, 'addr': '해운대구'}\n",
      "[Mongodb] {'name': '홍길동', 'age': 22, 'addr': '해운대구'}\n",
      "[Mongodb]필터에 맞게 조회합니다.\n",
      "학생목록:\n",
      "[Oracle] (3, '홍길동', 22, '해운대구')\n",
      "[Oracle]필터에 맞게 조회합니다.\n",
      "\n",
      "    1. 데이터 등록\n",
      "    2. 데이터 읽기\n",
      "    3. 데이터 수정\n",
      "    4. 데이터 삭제\n",
      "    5. 종료\n",
      "    고르세요\n",
      "\n"
     ]
    },
    {
     "name": "stdin",
     "output_type": "stream",
     "text": [
      "선택하세요:  4\n"
     ]
    },
    {
     "name": "stdout",
     "output_type": "stream",
     "text": [
      "4 번 고르셨네요.\n",
      "데이터를 삭제합니다.\n",
      "이름을 입력하세요\n"
     ]
    },
    {
     "name": "stdin",
     "output_type": "stream",
     "text": [
      " 홍길동\n"
     ]
    },
    {
     "name": "stdout",
     "output_type": "stream",
     "text": [
      "나이를 입력하세요\n"
     ]
    },
    {
     "name": "stdin",
     "output_type": "stream",
     "text": [
      " 22\n"
     ]
    },
    {
     "name": "stdout",
     "output_type": "stream",
     "text": [
      "주소를 입력하세요\n"
     ]
    },
    {
     "name": "stdin",
     "output_type": "stream",
     "text": [
      " 해운대구\n"
     ]
    },
    {
     "name": "stdout",
     "output_type": "stream",
     "text": [
      "[Mysql]('홍길동', 22, '해운대구')에 해당하는 목록을 삭제하였습니다.\n",
      "[Mongodb]수정됨 DeleteResult({'n': 1, 'ok': 1.0}, acknowledged=True)\n",
      "[Oracle]데이터가 성공적으로 삭제되었습니다..\n",
      "\n",
      "    1. 데이터 등록\n",
      "    2. 데이터 읽기\n",
      "    3. 데이터 수정\n",
      "    4. 데이터 삭제\n",
      "    5. 종료\n",
      "    고르세요\n",
      "\n"
     ]
    },
    {
     "name": "stdin",
     "output_type": "stream",
     "text": [
      "선택하세요:  5\n"
     ]
    },
    {
     "name": "stdout",
     "output_type": "stream",
     "text": [
      "5 번 고르셨네요.\n",
      "종료합니다.\n"
     ]
    }
   ],
   "source": [
    "str =\"\"\"\n",
    "    1. 데이터 등록\n",
    "    2. 데이터 읽기\n",
    "    3. 데이터 수정\n",
    "    4. 데이터 삭제\n",
    "    5. 종료\n",
    "    고르세요\n",
    "\"\"\"\n",
    "inp= 0\n",
    "while(inp!=5):\n",
    "    print(str)\n",
    "    inp= int(input(\"선택하세요: \"))\n",
    "    # 데이터 등록\n",
    "    if inp==1:\n",
    "        print(inp,'번 고르셨네요.')\n",
    "        print(\"데이터 등록 합니다.\")\n",
    "        print(\"이름을 입력하세요\")\n",
    "        Name = input() # 이름 입력값\n",
    "        print(\"나이를 입력하세요\")\n",
    "        Age = int(input()) # 나이 입력값\n",
    "        print(\"주소를 입력하세요\")\n",
    "        Addr = input() # 주소 입력값\n",
    "        \n",
    "        mysql\n",
    "        try:\n",
    "            MSsql = \"INSERT INTO test (name, age, addr) VALUES (%s, %s, %s)\"\n",
    "            MSvalues = (Name, Age, Addr)\n",
    "            MScursor.execute(MSsql, MSvalues)\n",
    "            MSconn.commit()\n",
    "        except Exception as e:\n",
    "            print(\"[Mysql]INSERT 오류:\", e)\n",
    "        finally:\n",
    "            print(\"[Mysql]1개의 데이터 삽입 완료, ID:\", MScursor.lastrowid)\n",
    "            \n",
    "\n",
    "        # mongodb\n",
    "        user = {\"name\":Name, \"age\":Age, \"addr\":Addr}\n",
    "        insert_result = collection.insert_one(user)\n",
    "        print(\"[Mongodb]Inserted ID삽입완료 했습니다. \",insert_result.inserted_id, )\n",
    "\n",
    "        # oracle\n",
    "        Oque = \"INSERT INTO test (name, age, addr) VALUES(:1, :2, :3)\"\n",
    "        Ovalues = (Name, Age, Addr)\n",
    "        Ocursor.execute(Oque, Ovalues)\n",
    "        Oconn.commit()\n",
    "        print(\"[Oracle]데이터 삽입 완료 했습니다.\")\n",
    "        \n",
    "\n",
    "    # 데이터 읽기\n",
    "    if inp==2:\n",
    "        print(inp,'번 고르셨네요.')\n",
    "        print(\"데이터 읽어 옵니다.\")\n",
    "        print(\"이름을 입력하세요\")\n",
    "        Name = input() # 이름 입력값\n",
    "        print(\"나이를 입력하세요\")\n",
    "        Age = int(input()) # 나이 입력값\n",
    "        print(\"주소를 입력하세요\")\n",
    "        Addr = input() # 주소 입력값\n",
    "        \n",
    "        # #mysql\n",
    "        try:\n",
    "            MSque = \"SELECT * FROM test\"\n",
    "            MSfilters = \" WHERE name=%s AND age = %s AND addr=%s\"\n",
    "            MSvalues =(Name, Age, Addr)\n",
    "            MScursor.execute(MSque+MSfilters, MSvalues)\n",
    "            users= MScursor.fetchall()\n",
    "            for user in users:\n",
    "                print(\"[Mysql]\",user)\n",
    "        except Exception as e:\n",
    "            print(\"[Mysql]Select 오류:\", e)\n",
    "        finally:\n",
    "            print(f\"[Mysql]필터에 맞게 조회합니다.\")\n",
    " \n",
    "\n",
    "        #mongodb\n",
    "        # 특정 조건을 만족하는 문서 조회\n",
    "        MOfilters = {\"name\":Name,\"age\":Age,\"addr\":Addr} \n",
    "        MOfiltered = collection.find(MOfilters,{\"_id\":0})\n",
    "        for f in MOfiltered :\n",
    "            print(\"[Mongodb]\",f)\n",
    "        print(f\"[Mongodb]필터에 맞게 조회합니다.\")\n",
    "\n",
    "        #oracle\n",
    "        try:\n",
    "            Oque = \"SELECT * FROM test \"\n",
    "            Ofilters = \"WHERE name LIKE :1 AND age =:2 AND addr like :3\"\n",
    "            Ovalues =(Name, Age, Addr)\n",
    "            Ocursor.execute(Oque+Ofilters, Ovalues)\n",
    "            # 모든 데이터 조회\n",
    "            users= Ocursor.fetchall()\n",
    "            for user in users:\n",
    "                print(\"[Oracle]\",user)\n",
    "        except Exception as e:\n",
    "            print(\"[Oracle]Select 오류:\", e)\n",
    "        finally:\n",
    "            print(f\"[Oracle]필터에 맞게 조회합니다.\")\n",
    "            \n",
    "    # 데이터 수정\n",
    "    if inp==3:\n",
    "        print(inp,'번 고르셨네요.')\n",
    "        print('데이터를 수정합니다.')\n",
    "        print(\"수정하고싶은 이름을 입력하세요\")\n",
    "        Name = input() # 이름 입력값\n",
    "        print(\"나이를 수정합니다.\")\n",
    "        print(\"수정하실 숫자를 입력하세요\")\n",
    "        Age = int(input()) # 나이 입력값\n",
    "        # print(\"주소를 입력하세요\")\n",
    "        # Addr = input() # 주소 입력값\n",
    "        \n",
    "        # mysql\n",
    "        try:\n",
    "            MSsql = \"UPDATE test SET age = %s  WHERE name = %s\" \n",
    "            MSvalues = (Age, Name)\n",
    "            MScursor.execute(MSsql, MSvalues)\n",
    "            MSconn.commit()\n",
    "        except Exception as e:\n",
    "            print(\"[Mysql]INSERT 오류:\", e)\n",
    "        finally:\n",
    "            print(\"[Mysql]수정된 행 개수:\", MScursor.rowcount)\n",
    "\n",
    "        #mongodb\n",
    "        updates = collection.update_one({\"name\":Name}, {\"$set\":{\"age\":Age}}) \n",
    "        print(\"[Mongodb]수정됨\",updates)\n",
    "\n",
    "        # oracle\n",
    "        Oque = \"UPDATE test SET age = :1 WHERE name =:2\"\n",
    "        Ovalues = (Age, Name)\n",
    "        Ocursor.execute(Oque, Ovalues)\n",
    "        Oconn.commit()\n",
    "        print(\"[Oracle]데이터가 성공적으로 수정되었습니다.\")\n",
    "\n",
    "        \n",
    "\n",
    "    # 데이터 삭제\n",
    "    if inp == 4:\n",
    "        print(inp,'번 고르셨네요.')\n",
    "        print(\"데이터를 삭제합니다.\")\n",
    "        print(\"이름을 입력하세요\")\n",
    "        Name = input() # 이름 입력값\n",
    "        print(\"나이를 입력하세요\")\n",
    "        Age = int(input()) # 나이 입력값\n",
    "        print(\"주소를 입력하세요\")\n",
    "        Addr = input() # 주소 입력값\n",
    "        \n",
    "        # mysql\n",
    "        try:\n",
    "            MSque = \"DELETE FROM test WHERE name = %s AND age = %s AND addr = %s\"\n",
    "            MSfilters = (Name, Age, Addr)\n",
    "            MScursor.execute(MSque, MSfilters)\n",
    "            MSconn.commit()\n",
    "        except Exception as e :\n",
    "            print(\"[Mysql]DELETE 오류: \", e)\n",
    "        finally:\n",
    "            print(f\"[Mysql]{MSfilters}에 해당하는 목록을 삭제하였습니다.\")\n",
    "        \n",
    "        #mongodb\n",
    "        MOfilters = {\"name\":Name,\"age\":Age,\"addr\":Addr} \n",
    "        MOdelete = collection.delete_one(MOfilters) \n",
    "        print(\"[Mongodb]수정됨\",MOdelete)\n",
    "\n",
    "        # oracle\n",
    "        Oque = \"DELETE FROM test \"\n",
    "        Ofilters = \"WHERE name LIKE :1 AND age =:2 AND addr like :3\"\n",
    "        Ovalues =(Name, Age, Addr)\n",
    "        Ocursor.execute(Oque+Ofilters, Ovalues)\n",
    "        print(\"[Oracle]데이터가 성공적으로 삭제되었습니다..\")\n",
    "        \n",
    "        \n",
    "        \n",
    "    if inp==5:\n",
    "        print(inp,'번 고르셨네요.')\n",
    "        print(\"종료합니다.\")"
   ]
  },
  {
   "cell_type": "code",
   "execution_count": null,
   "id": "55d2116f-08e9-4afc-bf8f-a26db904a1f3",
   "metadata": {},
   "outputs": [],
   "source": []
  },
  {
   "cell_type": "code",
   "execution_count": null,
   "id": "1dc0e915-a50a-4bf2-8a5e-d0d1619b201e",
   "metadata": {},
   "outputs": [],
   "source": []
  },
  {
   "cell_type": "code",
   "execution_count": null,
   "id": "20aee345-0fe1-4e33-aea5-839f226701d5",
   "metadata": {},
   "outputs": [],
   "source": []
  }
 ],
 "metadata": {
  "kernelspec": {
   "display_name": "Python 3 (ipykernel)",
   "language": "python",
   "name": "python3"
  },
  "language_info": {
   "codemirror_mode": {
    "name": "ipython",
    "version": 3
   },
   "file_extension": ".py",
   "mimetype": "text/x-python",
   "name": "python",
   "nbconvert_exporter": "python",
   "pygments_lexer": "ipython3",
   "version": "3.10.12"
  }
 },
 "nbformat": 4,
 "nbformat_minor": 5
}
